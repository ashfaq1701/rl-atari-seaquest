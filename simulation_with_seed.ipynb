{
 "cells": [
  {
   "cell_type": "code",
   "execution_count": 1,
   "id": "initial_id",
   "metadata": {
    "collapsed": true,
    "ExecuteTime": {
     "end_time": "2024-03-10T16:04:45.458043Z",
     "start_time": "2024-03-10T16:04:45.454062Z"
    }
   },
   "outputs": [],
   "source": [
    "N_ITER = 150\n",
    "N_EPISODES_PER_UPDATE = 10\n",
    "N_MAX_STEPS = 200\n",
    "DISCOUNT_FACTOR = 0.8\n",
    "\n",
    "ENVIRONMENT_SEED = 42"
   ]
  },
  {
   "cell_type": "code",
   "outputs": [],
   "source": [
    "from src.main import run_main_loop"
   ],
   "metadata": {
    "collapsed": false,
    "ExecuteTime": {
     "end_time": "2024-03-10T16:04:48.089348Z",
     "start_time": "2024-03-10T16:04:46.057964Z"
    }
   },
   "id": "724e2fa16f0eac5f",
   "execution_count": 2
  },
  {
   "cell_type": "code",
   "outputs": [
    {
     "name": "stderr",
     "output_type": "stream",
     "text": [
      "A.L.E: Arcade Learning Environment (version 0.8.1+53f58b7)\n",
      "[Powered by Stella]\n"
     ]
    },
    {
     "name": "stdout",
     "output_type": "stream",
     "text": [
      "Iteration 1 / 150: Mean reward: 20.0\n",
      "Iteration 2 / 150: Mean reward: 0.0\n",
      "Iteration 3 / 150: Mean reward: 0.0\n",
      "Iteration 4 / 150: Mean reward: 0.0\n",
      "Iteration 5 / 150: Mean reward: 0.0\n",
      "Iteration 6 / 150: Mean reward: 0.0\n",
      "Iteration 7 / 150: Mean reward: 0.0\n",
      "Iteration 8 / 150: Mean reward: 0.0\n",
      "Iteration 9 / 150: Mean reward: 0.0\n",
      "Iteration 10 / 150: Mean reward: 0.0\n",
      "Iteration 11 / 150: Mean reward: 0.0\n",
      "Iteration 12 / 150: Mean reward: 0.0\n",
      "Iteration 13 / 150: Mean reward: 0.0\n"
     ]
    }
   ],
   "source": [
    "seaquest_mean_rewards, seaquest_model = run_main_loop(\n",
    "    N_ITER,\n",
    "    N_EPISODES_PER_UPDATE,\n",
    "    N_MAX_STEPS,\n",
    "    DISCOUNT_FACTOR,\n",
    "    \"static_frame\",\n",
    "    \"ALE/Seaquest-v5\", \n",
    "    env_seed=42)"
   ],
   "metadata": {
    "collapsed": false,
    "is_executing": true,
    "ExecuteTime": {
     "start_time": "2024-03-10T16:04:48.804967Z"
    }
   },
   "id": "4d1e6c8ed9077f51"
  },
  {
   "cell_type": "code",
   "outputs": [],
   "source": [
    "pacman_mean_rewards, pacman_model = run_main_loop(\n",
    "    N_ITER,\n",
    "    N_EPISODES_PER_UPDATE,\n",
    "    N_MAX_STEPS,\n",
    "    DISCOUNT_FACTOR,\n",
    "    \"static_frame\",\n",
    "    \"ALE/Pacman-v5\",\n",
    "    env_seed=42)"
   ],
   "metadata": {
    "collapsed": false
   },
   "id": "e859386554e7e054"
  },
  {
   "cell_type": "code",
   "outputs": [],
   "source": [
    "breakout_mean_rewards, breakout_model = run_main_loop(\n",
    "    N_ITER,\n",
    "    N_EPISODES_PER_UPDATE,\n",
    "    N_MAX_STEPS,\n",
    "    DISCOUNT_FACTOR,\n",
    "    \"static_frame\",\n",
    "    \"ALE/Breakout-v5\", \n",
    "    env_seed=42)"
   ],
   "metadata": {
    "collapsed": false
   },
   "id": "7d940505950f52b2"
  },
  {
   "cell_type": "code",
   "outputs": [],
   "source": [
    "pong_mean_rewards, pong_model = run_main_loop(\n",
    "    N_ITER,\n",
    "    N_EPISODES_PER_UPDATE,\n",
    "    N_MAX_STEPS,\n",
    "    DISCOUNT_FACTOR,\n",
    "    \"static_frame\",\n",
    "    \"ALE/Pong-v5\",\n",
    "    env_seed=42)"
   ],
   "metadata": {
    "collapsed": false
   },
   "id": "693f08e007a0f183"
  },
  {
   "cell_type": "code",
   "outputs": [],
   "source": [
    "spaceinvaders_mean_rewards, spaceinvaders_model = run_main_loop(\n",
    "    N_ITER,\n",
    "    N_EPISODES_PER_UPDATE,\n",
    "    N_MAX_STEPS,\n",
    "    DISCOUNT_FACTOR,\n",
    "    \"static_frame\",\n",
    "    \"ALE/SpaceInvaders-v5\", \n",
    "    env_seed=42)"
   ],
   "metadata": {
    "collapsed": false
   },
   "id": "dc309ac6a7b8d8e1"
  }
 ],
 "metadata": {
  "kernelspec": {
   "display_name": "Python 3",
   "language": "python",
   "name": "python3"
  },
  "language_info": {
   "codemirror_mode": {
    "name": "ipython",
    "version": 2
   },
   "file_extension": ".py",
   "mimetype": "text/x-python",
   "name": "python",
   "nbconvert_exporter": "python",
   "pygments_lexer": "ipython2",
   "version": "2.7.6"
  }
 },
 "nbformat": 4,
 "nbformat_minor": 5
}
