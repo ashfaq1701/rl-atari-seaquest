{
 "cells": [
  {
   "cell_type": "code",
   "outputs": [],
   "source": [
    "N_ITER = 300\n",
    "N_EPISODES_PER_UPDATE = 10\n",
    "N_MAX_STEPS = 200\n",
    "DISCOUNT_FACTOR = 0.8"
   ],
   "metadata": {
    "collapsed": false,
    "ExecuteTime": {
     "end_time": "2024-03-10T23:31:33.079182Z",
     "start_time": "2024-03-10T23:31:33.075513Z"
    }
   },
   "id": "1b0b595f4a2928c3",
   "execution_count": 1
  },
  {
   "cell_type": "code",
   "outputs": [],
   "source": [
    "from src.main import run_main_loop"
   ],
   "metadata": {
    "collapsed": false,
    "ExecuteTime": {
     "end_time": "2024-03-10T23:31:35.167373Z",
     "start_time": "2024-03-10T23:31:33.080097Z"
    }
   },
   "id": "7b173c9e8efe93b8",
   "execution_count": 2
  },
  {
   "cell_type": "code",
   "outputs": [
    {
     "name": "stderr",
     "output_type": "stream",
     "text": [
      "A.L.E: Arcade Learning Environment (version 0.8.1+53f58b7)\n",
      "[Powered by Stella]\n"
     ]
    },
    {
     "name": "stdout",
     "output_type": "stream",
     "text": [
      "Iteration 1 / 300: Mean reward: 14.0\n",
      "Iteration 2 / 300: Mean reward: 40.0\n",
      "Iteration 3 / 300: Mean reward: 40.0\n",
      "Iteration 4 / 300: Mean reward: 40.0\n",
      "Iteration 5 / 300: Mean reward: 40.0\n",
      "Iteration 6 / 300: Mean reward: 40.0\n",
      "Iteration 7 / 300: Mean reward: 40.0\n",
      "Iteration 8 / 300: Mean reward: 40.0\n"
     ]
    }
   ],
   "source": [
    "seaquest_mean_rewards, seaquest_model = run_main_loop(\n",
    "    N_ITER,\n",
    "    N_EPISODES_PER_UPDATE,\n",
    "    N_MAX_STEPS,\n",
    "    DISCOUNT_FACTOR,\n",
    "    \"static_frame\",\n",
    "    \"ALE/Seaquest-v5\")"
   ],
   "metadata": {
    "collapsed": false,
    "is_executing": true,
    "ExecuteTime": {
     "start_time": "2024-03-10T23:31:35.167991Z"
    }
   },
   "id": "b20dde361c81aea3",
   "execution_count": null
  },
  {
   "cell_type": "code",
   "outputs": [],
   "source": [
    "pong_mean_rewards, pong_model = run_main_loop(\n",
    "    N_ITER,\n",
    "    N_EPISODES_PER_UPDATE,\n",
    "    N_MAX_STEPS,\n",
    "    DISCOUNT_FACTOR,\n",
    "    \"static_frame\",\n",
    "    \"ALE/Pong-v5\")"
   ],
   "metadata": {
    "collapsed": false,
    "is_executing": true
   },
   "id": "d55eef09d9e059d0"
  },
  {
   "cell_type": "code",
   "outputs": [],
   "source": [
    "spaceinvaders_mean_rewards, spaceinvaders_model = run_main_loop(\n",
    "    N_ITER,\n",
    "    N_EPISODES_PER_UPDATE,\n",
    "    N_MAX_STEPS,\n",
    "    DISCOUNT_FACTOR,\n",
    "    \"static_frame\",\n",
    "    \"ALE/SpaceInvaders-v5\")"
   ],
   "metadata": {
    "collapsed": false,
    "is_executing": true
   },
   "id": "456e14f66ee9dc",
   "execution_count": null
  },
  {
   "cell_type": "code",
   "outputs": [],
   "source": [],
   "metadata": {
    "collapsed": false,
    "is_executing": true
   },
   "id": "59aaf354f6858d21"
  }
 ],
 "metadata": {
  "kernelspec": {
   "display_name": "Python 3",
   "language": "python",
   "name": "python3"
  },
  "language_info": {
   "codemirror_mode": {
    "name": "ipython",
    "version": 2
   },
   "file_extension": ".py",
   "mimetype": "text/x-python",
   "name": "python",
   "nbconvert_exporter": "python",
   "pygments_lexer": "ipython2",
   "version": "2.7.6"
  }
 },
 "nbformat": 4,
 "nbformat_minor": 5
}
