{
 "cells": [
  {
   "cell_type": "code",
   "outputs": [],
   "source": [
    "N_ITER = 300\n",
    "N_EPISODES_PER_UPDATE = 10\n",
    "N_MAX_STEPS = 200\n",
    "DISCOUNT_FACTOR = 0.9"
   ],
   "metadata": {
    "collapsed": false,
    "ExecuteTime": {
     "end_time": "2024-03-11T16:51:09.266994Z",
     "start_time": "2024-03-11T16:51:09.263458Z"
    }
   },
   "id": "1b0b595f4a2928c3",
   "execution_count": 1
  },
  {
   "cell_type": "code",
   "outputs": [],
   "source": [
    "from src.main import run_main_loop"
   ],
   "metadata": {
    "collapsed": false,
    "ExecuteTime": {
     "end_time": "2024-03-11T16:51:11.744083Z",
     "start_time": "2024-03-11T16:51:09.673111Z"
    }
   },
   "id": "7b173c9e8efe93b8",
   "execution_count": 2
  },
  {
   "cell_type": "code",
   "outputs": [
    {
     "name": "stderr",
     "output_type": "stream",
     "text": [
      "A.L.E: Arcade Learning Environment (version 0.8.1+53f58b7)\n",
      "[Powered by Stella]\n"
     ]
    },
    {
     "name": "stdout",
     "output_type": "stream",
     "text": [
      "Iteration 1 / 300: Mean reward: 22.0\n",
      "Iteration 2 / 300: Mean reward: 18.0\n",
      "Iteration 3 / 300: Mean reward: 32.0\n",
      "Iteration 4 / 300: Mean reward: 30.0\n",
      "Iteration 5 / 300: Mean reward: 34.0\n",
      "Iteration 6 / 300: Mean reward: 46.0\n",
      "Iteration 7 / 300: Mean reward: 30.0\n",
      "Iteration 8 / 300: Mean reward: 40.0\n",
      "Iteration 9 / 300: Mean reward: 34.0\n",
      "Iteration 10 / 300: Mean reward: 44.0\n",
      "Iteration 11 / 300: Mean reward: 52.0\n",
      "Iteration 12 / 300: Mean reward: 40.0\n",
      "Iteration 13 / 300: Mean reward: 40.0\n",
      "Iteration 14 / 300: Mean reward: 32.0\n",
      "Iteration 15 / 300: Mean reward: 42.0\n",
      "Iteration 16 / 300: Mean reward: 52.0\n",
      "Iteration 17 / 300: Mean reward: 34.0\n",
      "Iteration 18 / 300: Mean reward: 42.0\n",
      "Iteration 19 / 300: Mean reward: 46.0\n",
      "Iteration 20 / 300: Mean reward: 44.0\n",
      "Iteration 21 / 300: Mean reward: 52.0\n",
      "Iteration 22 / 300: Mean reward: 50.0\n",
      "Iteration 23 / 300: Mean reward: 50.0\n",
      "Iteration 24 / 300: Mean reward: 52.0\n",
      "Iteration 25 / 300: Mean reward: 46.0\n",
      "Iteration 26 / 300: Mean reward: 50.0\n",
      "Iteration 27 / 300: Mean reward: 38.0\n",
      "Iteration 28 / 300: Mean reward: 50.0\n",
      "Iteration 29 / 300: Mean reward: 44.0\n",
      "Iteration 30 / 300: Mean reward: 52.0\n",
      "Iteration 31 / 300: Mean reward: 50.0\n",
      "Iteration 32 / 300: Mean reward: 52.0\n",
      "Iteration 33 / 300: Mean reward: 42.0\n",
      "Iteration 34 / 300: Mean reward: 40.0\n",
      "Iteration 35 / 300: Mean reward: 54.0\n",
      "Iteration 36 / 300: Mean reward: 54.0\n",
      "Iteration 37 / 300: Mean reward: 42.0\n",
      "Iteration 38 / 300: Mean reward: 48.0\n",
      "Iteration 39 / 300: Mean reward: 50.0\n",
      "Iteration 40 / 300: Mean reward: 46.0\n",
      "Iteration 41 / 300: Mean reward: 48.0\n",
      "Iteration 42 / 300: Mean reward: 48.0\n",
      "Iteration 43 / 300: Mean reward: 48.0\n",
      "Iteration 44 / 300: Mean reward: 44.0\n",
      "Iteration 45 / 300: Mean reward: 38.0\n",
      "Iteration 46 / 300: Mean reward: 50.0\n",
      "Iteration 47 / 300: Mean reward: 52.0\n",
      "Iteration 48 / 300: Mean reward: 52.0\n",
      "Iteration 49 / 300: Mean reward: 50.0\n",
      "Iteration 50 / 300: Mean reward: 56.0\n",
      "Iteration 51 / 300: Mean reward: 52.0\n",
      "Iteration 52 / 300: Mean reward: 50.0\n",
      "Iteration 53 / 300: Mean reward: 46.0\n",
      "Iteration 54 / 300: Mean reward: 52.0\n",
      "Iteration 55 / 300: Mean reward: 52.0\n",
      "Iteration 56 / 300: Mean reward: 50.0\n",
      "Iteration 57 / 300: Mean reward: 40.0\n",
      "Iteration 58 / 300: Mean reward: 52.0\n",
      "Iteration 59 / 300: Mean reward: 50.0\n",
      "Iteration 60 / 300: Mean reward: 42.0\n",
      "Iteration 61 / 300: Mean reward: 46.0\n",
      "Iteration 62 / 300: Mean reward: 50.0\n",
      "Iteration 63 / 300: Mean reward: 50.0\n",
      "Iteration 64 / 300: Mean reward: 52.0\n",
      "Iteration 65 / 300: Mean reward: 50.0\n",
      "Iteration 66 / 300: Mean reward: 46.0\n",
      "Iteration 67 / 300: Mean reward: 48.0\n",
      "Iteration 68 / 300: Mean reward: 50.0\n",
      "Iteration 69 / 300: Mean reward: 48.0\n",
      "Iteration 70 / 300: Mean reward: 52.0\n",
      "Iteration 71 / 300: Mean reward: 48.0\n",
      "Iteration 72 / 300: Mean reward: 50.0\n",
      "Iteration 73 / 300: Mean reward: 52.0\n",
      "Iteration 74 / 300: Mean reward: 48.0\n",
      "Iteration 75 / 300: Mean reward: 50.0\n",
      "Iteration 76 / 300: Mean reward: 48.0\n",
      "Iteration 77 / 300: Mean reward: 50.0\n",
      "Iteration 78 / 300: Mean reward: 54.0\n",
      "Iteration 79 / 300: Mean reward: 50.0\n",
      "Iteration 80 / 300: Mean reward: 50.0\n",
      "Iteration 81 / 300: Mean reward: 48.0\n",
      "Iteration 82 / 300: Mean reward: 48.0\n",
      "Iteration 83 / 300: Mean reward: 52.0\n",
      "Iteration 84 / 300: Mean reward: 50.0\n",
      "Iteration 85 / 300: Mean reward: 48.0\n",
      "Iteration 86 / 300: Mean reward: 54.0\n",
      "Iteration 87 / 300: Mean reward: 52.0\n",
      "Iteration 88 / 300: Mean reward: 50.0\n",
      "Iteration 89 / 300: Mean reward: 48.0\n",
      "Iteration 90 / 300: Mean reward: 44.0\n",
      "Iteration 91 / 300: Mean reward: 46.0\n",
      "Iteration 92 / 300: Mean reward: 50.0\n",
      "Iteration 93 / 300: Mean reward: 48.0\n",
      "Iteration 94 / 300: Mean reward: 48.0\n",
      "Iteration 95 / 300: Mean reward: 50.0\n",
      "Iteration 96 / 300: Mean reward: 44.0\n",
      "Iteration 97 / 300: Mean reward: 48.0\n",
      "Iteration 98 / 300: Mean reward: 52.0\n",
      "Iteration 99 / 300: Mean reward: 50.0\n",
      "Iteration 100 / 300: Mean reward: 52.0\n",
      "Iteration 101 / 300: Mean reward: 52.0\n",
      "Iteration 102 / 300: Mean reward: 48.0\n",
      "Iteration 103 / 300: Mean reward: 58.0\n",
      "Iteration 104 / 300: Mean reward: 46.0\n",
      "Iteration 105 / 300: Mean reward: 50.0\n",
      "Iteration 106 / 300: Mean reward: 50.0\n",
      "Iteration 107 / 300: Mean reward: 50.0\n",
      "Iteration 108 / 300: Mean reward: 56.0\n",
      "Iteration 109 / 300: Mean reward: 50.0\n",
      "Iteration 110 / 300: Mean reward: 50.0\n",
      "Iteration 111 / 300: Mean reward: 46.0\n",
      "Iteration 112 / 300: Mean reward: 50.0\n",
      "Iteration 113 / 300: Mean reward: 52.0\n",
      "Iteration 114 / 300: Mean reward: 50.0\n",
      "Iteration 115 / 300: Mean reward: 54.0\n",
      "Iteration 116 / 300: Mean reward: 58.0\n",
      "Iteration 117 / 300: Mean reward: 42.0\n",
      "Iteration 118 / 300: Mean reward: 56.0\n",
      "Iteration 119 / 300: Mean reward: 52.0\n",
      "Iteration 120 / 300: Mean reward: 48.0\n",
      "Iteration 121 / 300: Mean reward: 60.0\n",
      "Iteration 122 / 300: Mean reward: 46.0\n",
      "Iteration 123 / 300: Mean reward: 46.0\n",
      "Iteration 124 / 300: Mean reward: 50.0\n",
      "Iteration 125 / 300: Mean reward: 52.0\n",
      "Iteration 126 / 300: Mean reward: 50.0\n",
      "Iteration 127 / 300: Mean reward: 46.0\n",
      "Iteration 128 / 300: Mean reward: 52.0\n",
      "Iteration 129 / 300: Mean reward: 52.0\n",
      "Iteration 130 / 300: Mean reward: 48.0\n",
      "Iteration 131 / 300: Mean reward: 52.0\n",
      "Iteration 132 / 300: Mean reward: 46.0\n",
      "Iteration 133 / 300: Mean reward: 46.0\n",
      "Iteration 134 / 300: Mean reward: 52.0\n",
      "Iteration 135 / 300: Mean reward: 50.0\n",
      "Iteration 136 / 300: Mean reward: 48.0\n",
      "Iteration 137 / 300: Mean reward: 48.0\n",
      "Iteration 138 / 300: Mean reward: 54.0\n",
      "Iteration 139 / 300: Mean reward: 52.0\n",
      "Iteration 140 / 300: Mean reward: 54.0\n",
      "Iteration 141 / 300: Mean reward: 50.0\n",
      "Iteration 142 / 300: Mean reward: 52.0\n",
      "Iteration 143 / 300: Mean reward: 46.0\n",
      "Iteration 144 / 300: Mean reward: 52.0\n"
     ]
    }
   ],
   "source": [
    "seaquest_mean_rewards, seaquest_model = run_main_loop(\n",
    "    N_ITER,\n",
    "    N_EPISODES_PER_UPDATE,\n",
    "    N_MAX_STEPS,\n",
    "    DISCOUNT_FACTOR,\n",
    "    \"static_frame\",\n",
    "    \"ALE/Seaquest-v5\",\n",
    "    model_seed=42)"
   ],
   "metadata": {
    "collapsed": false,
    "is_executing": true,
    "ExecuteTime": {
     "start_time": "2024-03-11T16:51:12.343345Z"
    }
   },
   "id": "b20dde361c81aea3",
   "execution_count": null
  },
  {
   "cell_type": "code",
   "outputs": [],
   "source": [
    "pong_mean_rewards, pong_model = run_main_loop(\n",
    "    N_ITER,\n",
    "    N_EPISODES_PER_UPDATE,\n",
    "    N_MAX_STEPS,\n",
    "    DISCOUNT_FACTOR,\n",
    "    \"static_frame\",\n",
    "    \"ALE/Pong-v5\",\n",
    "    model_seed=42)"
   ],
   "metadata": {
    "collapsed": false,
    "is_executing": true
   },
   "id": "d55eef09d9e059d0",
   "execution_count": null
  },
  {
   "cell_type": "code",
   "outputs": [],
   "source": [
    "spaceinvaders_mean_rewards, spaceinvaders_model = run_main_loop(\n",
    "    N_ITER,\n",
    "    N_EPISODES_PER_UPDATE,\n",
    "    N_MAX_STEPS,\n",
    "    DISCOUNT_FACTOR,\n",
    "    \"static_frame\",\n",
    "    \"ALE/SpaceInvaders-v5\",\n",
    "    model_seed=42)"
   ],
   "metadata": {
    "collapsed": false,
    "is_executing": true
   },
   "id": "456e14f66ee9dc",
   "execution_count": null
  },
  {
   "cell_type": "code",
   "outputs": [],
   "source": [],
   "metadata": {
    "collapsed": false,
    "is_executing": true
   },
   "id": "59aaf354f6858d21"
  }
 ],
 "metadata": {
  "kernelspec": {
   "display_name": "Python 3",
   "language": "python",
   "name": "python3"
  },
  "language_info": {
   "codemirror_mode": {
    "name": "ipython",
    "version": 2
   },
   "file_extension": ".py",
   "mimetype": "text/x-python",
   "name": "python",
   "nbconvert_exporter": "python",
   "pygments_lexer": "ipython2",
   "version": "2.7.6"
  }
 },
 "nbformat": 4,
 "nbformat_minor": 5
}
