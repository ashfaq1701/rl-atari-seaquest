{
 "cells": [
  {
   "cell_type": "code",
   "outputs": [],
   "source": [
    "N_ITER = 200\n",
    "N_EPISODES_PER_UPDATE = 20\n",
    "N_MAX_STEPS = 200\n",
    "DISCOUNT_FACTOR = 0.8"
   ],
   "metadata": {
    "collapsed": false,
    "ExecuteTime": {
     "end_time": "2024-03-09T19:31:31.793046Z",
     "start_time": "2024-03-09T19:31:31.789324Z"
    }
   },
   "id": "1b0b595f4a2928c3",
   "execution_count": 1
  },
  {
   "cell_type": "code",
   "outputs": [
    {
     "name": "stderr",
     "output_type": "stream",
     "text": [
      "A.L.E: Arcade Learning Environment (version 0.8.1+53f58b7)\n",
      "[Powered by Stella]\n",
      "/Users/ashfaq/.local/share/virtualenvs/rl-atari-seaquest-2-9kiRMmgz/lib/python3.11/site-packages/keras/src/layers/preprocessing/tf_data_layer.py:19: UserWarning: Do not pass an `input_shape`/`input_dim` argument to a layer. When using Sequential models, prefer using an `Input(shape)` object as the first layer in the model instead.\n",
      "  super().__init__(**kwargs)\n"
     ]
    }
   ],
   "source": [
    "from src.main import run_main_loop\n",
    "\n",
    "seaquest_mean_rewards = run_main_loop(\n",
    "    N_ITER,\n",
    "    N_EPISODES_PER_UPDATE,\n",
    "    N_MAX_STEPS,\n",
    "    DISCOUNT_FACTOR,\n",
    "    \"static_frame\",\n",
    "    \"ALE/Seaquest-v5\")"
   ],
   "metadata": {
    "collapsed": false,
    "is_executing": true,
    "ExecuteTime": {
     "start_time": "2024-03-09T19:31:31.793995Z"
    }
   },
   "id": "b20dde361c81aea3",
   "execution_count": null
  },
  {
   "cell_type": "code",
   "outputs": [],
   "source": [
    "pacman_mean_rewards = run_main_loop(\n",
    "    N_ITER,\n",
    "    N_EPISODES_PER_UPDATE,\n",
    "    N_MAX_STEPS,\n",
    "    DISCOUNT_FACTOR,\n",
    "    \"static_frame\",\n",
    "    \"ALE/Pacman-v5\")"
   ],
   "metadata": {
    "collapsed": false,
    "is_executing": true
   },
   "id": "68051172c034679e"
  },
  {
   "cell_type": "code",
   "outputs": [],
   "source": [
    "breakout_mean_rewards = run_main_loop(\n",
    "    N_ITER,\n",
    "    N_EPISODES_PER_UPDATE,\n",
    "    N_MAX_STEPS,\n",
    "    DISCOUNT_FACTOR,\n",
    "    \"static_frame\",\n",
    "    \"ALE/Breakout-v5\")"
   ],
   "metadata": {
    "collapsed": false,
    "is_executing": true
   },
   "id": "cdc3df908e58c38d"
  },
  {
   "cell_type": "code",
   "outputs": [],
   "source": [
    "pong_mean_rewards = run_main_loop(\n",
    "    N_ITER,\n",
    "    N_EPISODES_PER_UPDATE,\n",
    "    N_MAX_STEPS,\n",
    "    DISCOUNT_FACTOR,\n",
    "    \"static_frame\",\n",
    "    \"ALE/Pong-v5\")"
   ],
   "metadata": {
    "collapsed": false,
    "is_executing": true
   },
   "id": "d55eef09d9e059d0"
  },
  {
   "cell_type": "code",
   "outputs": [],
   "source": [
    "spaceinvaders_mean_rewards = run_main_loop(\n",
    "    N_ITER,\n",
    "    N_EPISODES_PER_UPDATE,\n",
    "    N_MAX_STEPS,\n",
    "    DISCOUNT_FACTOR,\n",
    "    \"static_frame\",\n",
    "    \"ALE/SpaceInvaders-v5\")"
   ],
   "metadata": {
    "collapsed": false,
    "is_executing": true
   },
   "id": "456e14f66ee9dc",
   "execution_count": null
  },
  {
   "cell_type": "code",
   "outputs": [],
   "source": [],
   "metadata": {
    "collapsed": false,
    "is_executing": true
   },
   "id": "59aaf354f6858d21"
  }
 ],
 "metadata": {
  "kernelspec": {
   "display_name": "Python 3",
   "language": "python",
   "name": "python3"
  },
  "language_info": {
   "codemirror_mode": {
    "name": "ipython",
    "version": 2
   },
   "file_extension": ".py",
   "mimetype": "text/x-python",
   "name": "python",
   "nbconvert_exporter": "python",
   "pygments_lexer": "ipython2",
   "version": "2.7.6"
  }
 },
 "nbformat": 4,
 "nbformat_minor": 5
}
